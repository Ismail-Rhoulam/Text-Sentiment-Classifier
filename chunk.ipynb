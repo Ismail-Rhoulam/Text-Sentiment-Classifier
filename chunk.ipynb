{
 "cells": [
  {
   "cell_type": "code",
   "execution_count": null,
   "metadata": {},
   "outputs": [],
   "source": [
    "from collections import Counter\n",
    "import pandas as pd\n",
    "import math\n",
    "import re"
   ]
  },
  {
   "cell_type": "code",
   "execution_count": null,
   "metadata": {},
   "outputs": [],
   "source": [
    "def clean(text):   # Removes HTML tags & punctuations from a given string\n",
    "    \n",
    "    # Remove HTML tags\n",
    "    text = re.sub(r'<[^>]+>', ' ', text)    \n",
    "    # Remove punctuations\n",
    "    text = re.sub(r\"[^\\w\\s']\", ' ', text)    \n",
    "    return text\n",
    "\n",
    "\n",
    "def processing(text):   # Processing and tokenizing a given string\n",
    "    text = text.lower()\n",
    "    text = clean(text)\n",
    "    # Using list comprehension for faster operation\n",
    "    tokens = text.split()\n",
    "    return tokens\n",
    "\n",
    "def term_freq(text):    # Calculate the term frequencie of each word\n",
    "\n",
    "    X = Counter(text)   # Counting the occurence of each term in a list\n",
    "    # Frequencies\n",
    "    for T in X:\n",
    "        X[T] = X[T] / float(len(text))\n",
    "    return X\n",
    "\n",
    "\n",
    "def inve_list_freq(text):\n",
    "    \n",
    "    C = len(text)\n",
    "    # Count the number of lists that containe each word\n",
    "    ilf = Counter([word for list in text for word in set(list)])\n",
    "    # Calculate the inverse list frequencie\n",
    "    for w, v in ilf.items():\n",
    "        ilf[w] = math.log10(C / float(v))\n",
    "    return ilf\n",
    "\n",
    "\n"
   ]
  },
  {
   "cell_type": "code",
   "execution_count": null,
   "metadata": {},
   "outputs": [],
   "source": [
    "df = pd.read_csv('IMDB.csv')"
   ]
  },
  {
   "cell_type": "code",
   "execution_count": null,
   "metadata": {},
   "outputs": [],
   "source": [
    "df['p_review'] = df['review'].apply(processing)"
   ]
  },
  {
   "cell_type": "code",
   "execution_count": null,
   "metadata": {},
   "outputs": [],
   "source": [
    "if len(df) > 1000:\n",
    "    df_var = {}\n",
    "    rec_per_chunk = 1000\n",
    "    for m in range(50):\n",
    "        v = f'd{m+1:02d}'\n",
    "        s = m * rec_per_chunk\n",
    "        df_var[v] = df[s:s + rec_per_chunk]"
   ]
  }
 ],
 "metadata": {
  "kernelspec": {
   "display_name": "Python 3",
   "language": "python",
   "name": "python3"
  },
  "language_info": {
   "codemirror_mode": {
    "name": "ipython",
    "version": 3
   },
   "file_extension": ".py",
   "mimetype": "text/x-python",
   "name": "python",
   "nbconvert_exporter": "python",
   "pygments_lexer": "ipython3",
   "version": "3.11.5"
  }
 },
 "nbformat": 4,
 "nbformat_minor": 2
}
