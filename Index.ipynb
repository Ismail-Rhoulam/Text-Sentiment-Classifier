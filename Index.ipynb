{
 "cells": [
  {
   "cell_type": "code",
   "execution_count": null,
   "metadata": {},
   "outputs": [],
   "source": [
    "import pandas as pd\n",
    "import TSC as tsc"
   ]
  },
  {
   "cell_type": "code",
   "execution_count": null,
   "metadata": {},
   "outputs": [],
   "source": [
    "df = pd.read_csv('IMDB.csv')\n",
    "texts = df['review'].to_list()\n",
    "sentiments = df['sentiment'].to_list()\n",
    "data = list(zip(texts, sentiments))"
   ]
  },
  {
   "cell_type": "code",
   "execution_count": null,
   "metadata": {},
   "outputs": [],
   "source": [
    "p_data = [(tsc.processing(text), sentiment) for text, sentiment in data]"
   ]
  },
  {
   "cell_type": "code",
   "execution_count": null,
   "metadata": {},
   "outputs": [],
   "source": [
    "vocab = tsc.vocab_extract(p_data)"
   ]
  },
  {
   "cell_type": "code",
   "execution_count": null,
   "metadata": {},
   "outputs": [],
   "source": [
    "features = [tsc.feat(p_data, vocab) for words, labels in p_data]"
   ]
  },
  {
   "cell_type": "code",
   "execution_count": null,
   "metadata": {},
   "outputs": [],
   "source": [
    "u_label = list(set(sentiments)) # Get unique labels\n",
    "n_label = {label: num for num, label in enumerate(u_label)} # Positive = 1 and Negative = 0\n",
    "n_sent = [n_label[label] for label in sentiments]   # Converting labels to numericals"
   ]
  },
  {
   "cell_type": "code",
   "execution_count": null,
   "metadata": {},
   "outputs": [],
   "source": [
    "# Splittting the dataset into training and testing\n",
    "split_index = int(0.8 * len(features))\n",
    "x_train, x_test = features[:split_index], features[split_index:]\n",
    "y_train, y_test = n_sent[:split_index], n_sent[split_index:]"
   ]
  },
  {
   "cell_type": "code",
   "execution_count": null,
   "metadata": {},
   "outputs": [],
   "source": [
    "# Training the model\n",
    "word_prob, class_prob = tsc.naive_bayes(x_train, y_train, vocab)"
   ]
  },
  {
   "cell_type": "code",
   "execution_count": null,
   "metadata": {},
   "outputs": [],
   "source": [
    "# Make predictions\n",
    "predictions = tsc.prediction(x_test, word_prob, class_prob)\n",
    "\n",
    "# Calculate accuracy\n",
    "accuracy = sum(1 for p, t in zip(predictions, y_test) if p == t) / len(y_test)\n",
    "\n",
    "print(f'Accuracy of the model : {accuracy}')"
   ]
  }
 ],
 "metadata": {
  "kernelspec": {
   "display_name": "Python 3",
   "language": "python",
   "name": "python3"
  },
  "language_info": {
   "codemirror_mode": {
    "name": "ipython",
    "version": 3
   },
   "file_extension": ".py",
   "mimetype": "text/x-python",
   "name": "python",
   "nbconvert_exporter": "python",
   "pygments_lexer": "ipython3",
   "version": "3.11.5"
  }
 },
 "nbformat": 4,
 "nbformat_minor": 2
}
