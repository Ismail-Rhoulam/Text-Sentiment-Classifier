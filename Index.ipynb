{
 "cells": [
  {
   "cell_type": "code",
   "execution_count": 17,
   "metadata": {},
   "outputs": [],
   "source": [
    "import pandas as pd"
   ]
  },
  {
   "cell_type": "code",
   "execution_count": 39,
   "metadata": {},
   "outputs": [],
   "source": [
    "def rm_html_tags(text):     #Removes HTML tags from a given string\n",
    "\n",
    "    tags = [\n",
    "        \"<p>\", \"</p>\", \"<br/>\", \"<hr/>\", \"<blockquote>\", \"</blockquote>\", \"<pre>\",\n",
    "        \"</pre>\", \"<b>\", \"</b>\", \"<strong>\", \"</strong>\", \"<i>\", \"</i>\", \"<em>\",\n",
    "        \"</em>\", \"<mark>\", \"</mark>\", \"<small>\", \"</small>\", \"<del>\", \"</del>\",\n",
    "        \"<ins>\", \"</ins>\", \"<sub>\", \"</sub>\", \"<sup>\", \"</sup>\", \"<q>\", \"</q>\",\n",
    "        \"<br />\"\n",
    "        ]\n",
    "    for tag in tags:\n",
    "        if tag in text:\n",
    "            text = text.replace(tag, ' ')\n",
    "    return text\n",
    "    \n",
    "\n",
    "def rm_punctuation(text):   #Removes punctuations from a given string\n",
    "\n",
    "    punc = '''.,!?;:-'“”()[]{}…/\\&*@#$%^+=~|<>_—–'''\n",
    "    for i in text:\n",
    "        if i in punc:\n",
    "            text = text.replace(i, ' ')\n",
    "    return text\n",
    "\n",
    "\n",
    "def processing(text):   #Processing and tokenizing a given string\n",
    "\n",
    "    text = text.lower()\n",
    "    text = rm_html_tags(text)\n",
    "    text = rm_punctuation(text)\n",
    "    tokens = text.split()\n",
    "    return tokens\n",
    "\n"
   ]
  },
  {
   "cell_type": "code",
   "execution_count": 40,
   "metadata": {},
   "outputs": [],
   "source": [
    "df = pd.read_csv('IMDB.csv')\n",
    "texts = df['review'].to_list()\n",
    "sentiments = df['sentiment'].to_list()\n",
    "data = list(zip(texts, sentiments))"
   ]
  },
  {
   "cell_type": "code",
   "execution_count": 41,
   "metadata": {},
   "outputs": [],
   "source": [
    "p_data = [(processing(text), sentiment) for text, sentiment in data]"
   ]
  }
 ],
 "metadata": {
  "kernelspec": {
   "display_name": "Python 3",
   "language": "python",
   "name": "python3"
  },
  "language_info": {
   "codemirror_mode": {
    "name": "ipython",
    "version": 3
   },
   "file_extension": ".py",
   "mimetype": "text/x-python",
   "name": "python",
   "nbconvert_exporter": "python",
   "pygments_lexer": "ipython3",
   "version": "3.11.5"
  }
 },
 "nbformat": 4,
 "nbformat_minor": 2
}
